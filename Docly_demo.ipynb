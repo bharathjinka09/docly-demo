{
  "nbformat": 4,
  "nbformat_minor": 0,
  "metadata": {
    "colab": {
      "name": "Docly-demo.ipynb",
      "provenance": [],
      "collapsed_sections": []
    },
    "kernelspec": {
      "name": "python3",
      "display_name": "Python 3"
    }
  },
  "cells": [
    {
      "cell_type": "code",
      "metadata": {
        "id": "yCfORIZStu0f"
      },
      "source": [
        "import os"
      ],
      "execution_count": 2,
      "outputs": []
    },
    {
      "cell_type": "code",
      "metadata": {
        "id": "u-D7cQz_uGuT"
      },
      "source": [
        "location = \"/content/drive/MyDrive/Demo/\""
      ],
      "execution_count": 3,
      "outputs": []
    },
    {
      "cell_type": "code",
      "metadata": {
        "colab": {
          "base_uri": "https://localhost:8080/"
        },
        "id": "iaQM3p7Agr_A",
        "outputId": "c7d8caf1-58e3-4d89-c138-b9df3e4802e5"
      },
      "source": [
        "os.listdir(location)"
      ],
      "execution_count": 4,
      "outputs": [
        {
          "output_type": "execute_result",
          "data": {
            "text/plain": [
              "['script_2.py', 'script_1.py', 'Docly-demo.ipynb']"
            ]
          },
          "metadata": {
            "tags": []
          },
          "execution_count": 4
        }
      ]
    },
    {
      "cell_type": "code",
      "metadata": {
        "colab": {
          "base_uri": "https://localhost:8080/"
        },
        "id": "4PfvbbnSwFV_",
        "outputId": "7be7b5e6-db5a-4810-8922-795d7858d34a"
      },
      "source": [
        "!pip install -U PyYAML"
      ],
      "execution_count": 5,
      "outputs": [
        {
          "output_type": "stream",
          "text": [
            "Collecting PyYAML\n",
            "\u001b[?25l  Downloading https://files.pythonhosted.org/packages/64/c2/b80047c7ac2478f9501676c988a5411ed5572f35d1beff9cae07d321512c/PyYAML-5.3.1.tar.gz (269kB)\n",
            "\r\u001b[K     |█▏                              | 10kB 18.1MB/s eta 0:00:01\r\u001b[K     |██▍                             | 20kB 22.1MB/s eta 0:00:01\r\u001b[K     |███▋                            | 30kB 10.9MB/s eta 0:00:01\r\u001b[K     |████▉                           | 40kB 8.5MB/s eta 0:00:01\r\u001b[K     |██████                          | 51kB 4.4MB/s eta 0:00:01\r\u001b[K     |███████▎                        | 61kB 5.0MB/s eta 0:00:01\r\u001b[K     |████████▌                       | 71kB 5.1MB/s eta 0:00:01\r\u001b[K     |█████████▊                      | 81kB 5.6MB/s eta 0:00:01\r\u001b[K     |███████████                     | 92kB 5.7MB/s eta 0:00:01\r\u001b[K     |████████████▏                   | 102kB 6.0MB/s eta 0:00:01\r\u001b[K     |█████████████▍                  | 112kB 6.0MB/s eta 0:00:01\r\u001b[K     |██████████████▋                 | 122kB 6.0MB/s eta 0:00:01\r\u001b[K     |███████████████▉                | 133kB 6.0MB/s eta 0:00:01\r\u001b[K     |█████████████████               | 143kB 6.0MB/s eta 0:00:01\r\u001b[K     |██████████████████▎             | 153kB 6.0MB/s eta 0:00:01\r\u001b[K     |███████████████████▌            | 163kB 6.0MB/s eta 0:00:01\r\u001b[K     |████████████████████▊           | 174kB 6.0MB/s eta 0:00:01\r\u001b[K     |██████████████████████          | 184kB 6.0MB/s eta 0:00:01\r\u001b[K     |███████████████████████▏        | 194kB 6.0MB/s eta 0:00:01\r\u001b[K     |████████████████████████▎       | 204kB 6.0MB/s eta 0:00:01\r\u001b[K     |█████████████████████████▌      | 215kB 6.0MB/s eta 0:00:01\r\u001b[K     |██████████████████████████▊     | 225kB 6.0MB/s eta 0:00:01\r\u001b[K     |████████████████████████████    | 235kB 6.0MB/s eta 0:00:01\r\u001b[K     |█████████████████████████████▏  | 245kB 6.0MB/s eta 0:00:01\r\u001b[K     |██████████████████████████████▍ | 256kB 6.0MB/s eta 0:00:01\r\u001b[K     |███████████████████████████████▋| 266kB 6.0MB/s eta 0:00:01\r\u001b[K     |████████████████████████████████| 276kB 6.0MB/s \n",
            "\u001b[?25hBuilding wheels for collected packages: PyYAML\n",
            "  Building wheel for PyYAML (setup.py) ... \u001b[?25l\u001b[?25hdone\n",
            "  Created wheel for PyYAML: filename=PyYAML-5.3.1-cp36-cp36m-linux_x86_64.whl size=44619 sha256=db699f9c38d62f8ffebc5f14ba90d8a904254732440e610d01c544396249d7bc\n",
            "  Stored in directory: /root/.cache/pip/wheels/a7/c1/ea/cf5bd31012e735dc1dfea3131a2d5eae7978b251083d6247bd\n",
            "Successfully built PyYAML\n",
            "Installing collected packages: PyYAML\n",
            "  Found existing installation: PyYAML 3.13\n",
            "    Uninstalling PyYAML-3.13:\n",
            "      Successfully uninstalled PyYAML-3.13\n",
            "Successfully installed PyYAML-5.3.1\n"
          ],
          "name": "stdout"
        }
      ]
    },
    {
      "cell_type": "code",
      "metadata": {
        "colab": {
          "base_uri": "https://localhost:8080/"
        },
        "id": "i2k0W0kouQTb",
        "outputId": "b571b2e9-e79e-4062-ed44-ad1e4978473e"
      },
      "source": [
        "!pip install 'docly[jupyter]'"
      ],
      "execution_count": 6,
      "outputs": [
        {
          "output_type": "stream",
          "text": [
            "Collecting docly[jupyter]\n",
            "  Downloading https://files.pythonhosted.org/packages/f9/23/a2ddc26381197c849b8486c6bcd1b89f057609fa318df4e0c43590f1722c/docly-0.0.30-py3-none-any.whl\n",
            "Requirement already satisfied: numpy in /usr/local/lib/python3.6/dist-packages (from docly[jupyter]) (1.18.5)\n",
            "Collecting tree-hugger\n",
            "  Downloading https://files.pythonhosted.org/packages/f6/cc/376ecf8e028d07d7398cdd298555935213114b69e29ad415e11675fd0b72/tree_hugger-0.10.0-py3-none-any.whl\n",
            "Collecting invoke\n",
            "\u001b[?25l  Downloading https://files.pythonhosted.org/packages/2c/16/f00efa99ae9f255142a230ce6819c37ae9dd29a7144477c1161cc72d01ed/invoke-1.4.1-py3-none-any.whl (210kB)\n",
            "\u001b[K     |████████████████████████████████| 215kB 6.1MB/s \n",
            "\u001b[?25hCollecting pyfiglet\n",
            "\u001b[?25l  Downloading https://files.pythonhosted.org/packages/33/07/fcfdd7a2872f5b348953de35acce1544dab0c1e8368dca54279b1cde5c15/pyfiglet-0.8.post1-py2.py3-none-any.whl (865kB)\n",
            "\u001b[K     |████████████████████████████████| 870kB 18.0MB/s \n",
            "\u001b[?25hRequirement already satisfied: torch in /usr/local/lib/python3.6/dist-packages (from docly[jupyter]) (1.7.0+cu101)\n",
            "Requirement already satisfied: nltk in /usr/local/lib/python3.6/dist-packages (from docly[jupyter]) (3.2.5)\n",
            "Collecting halo\n",
            "  Downloading https://files.pythonhosted.org/packages/ee/48/d53580d30b1fabf25d0d1fcc3f5b26d08d2ac75a1890ff6d262f9f027436/halo-0.0.31.tar.gz\n",
            "Requirement already satisfied: tqdm in /usr/local/lib/python3.6/dist-packages (from docly[jupyter]) (4.41.1)\n",
            "Collecting transformers==2.5.0\n",
            "\u001b[?25l  Downloading https://files.pythonhosted.org/packages/04/58/3d789b98923da6485f376be1e04d59ad7003a63bdb2b04b5eea7e02857e5/transformers-2.5.0-py3-none-any.whl (481kB)\n",
            "\u001b[K     |████████████████████████████████| 491kB 29.0MB/s \n",
            "\u001b[?25hCollecting dpu-utils\n",
            "\u001b[?25l  Downloading https://files.pythonhosted.org/packages/16/68/28ec5fd5b3e1bbfebf85a5eb6247f2b80d18b80d6f0930ded09a32816562/dpu_utils-0.2.19-py2.py3-none-any.whl (64kB)\n",
            "\u001b[K     |████████████████████████████████| 71kB 9.4MB/s \n",
            "\u001b[?25hRequirement already satisfied: requests in /usr/local/lib/python3.6/dist-packages (from docly[jupyter]) (2.23.0)\n",
            "Collecting rich\n",
            "\u001b[?25l  Downloading https://files.pythonhosted.org/packages/e1/ef/0474f887dbe86d50e8cd388bc0ba1b92dffc8ab01841e6667df3a41133bc/rich-9.2.0-py3-none-any.whl (164kB)\n",
            "\u001b[K     |████████████████████████████████| 174kB 27.8MB/s \n",
            "\u001b[?25hCollecting jupytext; extra == \"jupyter\"\n",
            "\u001b[?25l  Downloading https://files.pythonhosted.org/packages/e4/1e/3f5176911f511718ce0c796fc72dbe6d0f4acffea41e40eef899a6d18533/jupytext-1.7.1-py3-none-any.whl (284kB)\n",
            "\u001b[K     |████████████████████████████████| 286kB 27.3MB/s \n",
            "\u001b[?25hRequirement already satisfied: PyYAML in /usr/local/lib/python3.6/dist-packages (from tree-hugger->docly[jupyter]) (5.3.1)\n",
            "Requirement already satisfied: pytest in /usr/local/lib/python3.6/dist-packages (from tree-hugger->docly[jupyter]) (3.6.4)\n",
            "Collecting pygit2\n",
            "\u001b[?25l  Downloading https://files.pythonhosted.org/packages/de/d0/e0b576a4b3db8dcd372f84f4cf262e249e14b4ce18e62d3567d5892ae474/pygit2-1.4.0-cp36-cp36m-manylinux2010_x86_64.whl (3.0MB)\n",
            "\u001b[K     |████████████████████████████████| 3.0MB 26.8MB/s \n",
            "\u001b[?25hCollecting tree-sitter\n",
            "\u001b[?25l  Downloading https://files.pythonhosted.org/packages/3f/52/26d11536a8fafaadabe9deeb0611abdd71e11602904f60a6debdde053e6f/tree_sitter-0.2.0.tar.gz (110kB)\n",
            "\u001b[K     |████████████████████████████████| 112kB 43.7MB/s \n",
            "\u001b[?25hRequirement already satisfied: dataclasses in /usr/local/lib/python3.6/dist-packages (from torch->docly[jupyter]) (0.8)\n",
            "Requirement already satisfied: future in /usr/local/lib/python3.6/dist-packages (from torch->docly[jupyter]) (0.16.0)\n",
            "Requirement already satisfied: typing-extensions in /usr/local/lib/python3.6/dist-packages (from torch->docly[jupyter]) (3.7.4.3)\n",
            "Requirement already satisfied: six in /usr/local/lib/python3.6/dist-packages (from nltk->docly[jupyter]) (1.15.0)\n",
            "Collecting log_symbols>=0.0.14\n",
            "  Downloading https://files.pythonhosted.org/packages/28/5d/d710c38be68b0fb54e645048fe359c3904cc3cb64b2de9d40e1712bf110c/log_symbols-0.0.14-py3-none-any.whl\n",
            "Collecting spinners>=0.0.24\n",
            "  Downloading https://files.pythonhosted.org/packages/9f/8e/3310207a68118000ca27ac878b8386123628b335ecb3d4bec4743357f0d1/spinners-0.0.24-py3-none-any.whl\n",
            "Requirement already satisfied: termcolor>=1.1.0 in /usr/local/lib/python3.6/dist-packages (from halo->docly[jupyter]) (1.1.0)\n",
            "Collecting colorama>=0.3.9\n",
            "  Downloading https://files.pythonhosted.org/packages/44/98/5b86278fbbf250d239ae0ecb724f8572af1c91f4a11edf4d36a206189440/colorama-0.4.4-py2.py3-none-any.whl\n",
            "Collecting sentencepiece\n",
            "\u001b[?25l  Downloading https://files.pythonhosted.org/packages/e5/2d/6d4ca4bef9a67070fa1cac508606328329152b1df10bdf31fb6e4e727894/sentencepiece-0.1.94-cp36-cp36m-manylinux2014_x86_64.whl (1.1MB)\n",
            "\u001b[K     |████████████████████████████████| 1.1MB 39.6MB/s \n",
            "\u001b[?25hRequirement already satisfied: filelock in /usr/local/lib/python3.6/dist-packages (from transformers==2.5.0->docly[jupyter]) (3.0.12)\n",
            "Collecting tokenizers==0.5.0\n",
            "\u001b[?25l  Downloading https://files.pythonhosted.org/packages/7e/1d/ea7e2c628942e686595736f73678348272120d026b7acd54fe43e5211bb1/tokenizers-0.5.0-cp36-cp36m-manylinux1_x86_64.whl (3.8MB)\n",
            "\u001b[K     |████████████████████████████████| 3.8MB 44.0MB/s \n",
            "\u001b[?25hCollecting sacremoses\n",
            "\u001b[?25l  Downloading https://files.pythonhosted.org/packages/7d/34/09d19aff26edcc8eb2a01bed8e98f13a1537005d31e95233fd48216eed10/sacremoses-0.0.43.tar.gz (883kB)\n",
            "\u001b[K     |████████████████████████████████| 890kB 51.1MB/s \n",
            "\u001b[?25hRequirement already satisfied: regex!=2019.12.17 in /usr/local/lib/python3.6/dist-packages (from transformers==2.5.0->docly[jupyter]) (2019.12.20)\n",
            "Collecting boto3\n",
            "\u001b[?25l  Downloading https://files.pythonhosted.org/packages/59/7f/4ade91fbb684c6f28a6e56028d9f9d2de4297761850d083579779f07c0de/boto3-1.16.25-py2.py3-none-any.whl (129kB)\n",
            "\u001b[K     |████████████████████████████████| 133kB 42.4MB/s \n",
            "\u001b[?25hCollecting SetSimilaritySearch\n",
            "  Downloading https://files.pythonhosted.org/packages/a8/02/5de5172cb7b990f85986ef405129c55b20b0798359f0879d0c649d112cdd/SetSimilaritySearch-0.1.7-py2.py3-none-any.whl\n",
            "Requirement already satisfied: docopt in /usr/local/lib/python3.6/dist-packages (from dpu-utils->docly[jupyter]) (0.6.2)\n",
            "Collecting azure-storage==0.36.0\n",
            "\u001b[?25l  Downloading https://files.pythonhosted.org/packages/76/26/482c033f8f3a48d16cf75aad91c3e1256856719f4117fabb4696d33aa5da/azure_storage-0.36.0-py2.py3-none-any.whl (190kB)\n",
            "\u001b[K     |████████████████████████████████| 194kB 48.6MB/s \n",
            "\u001b[?25hRequirement already satisfied: chardet<4,>=3.0.2 in /usr/local/lib/python3.6/dist-packages (from requests->docly[jupyter]) (3.0.4)\n",
            "Requirement already satisfied: urllib3!=1.25.0,!=1.25.1,<1.26,>=1.21.1 in /usr/local/lib/python3.6/dist-packages (from requests->docly[jupyter]) (1.24.3)\n",
            "Requirement already satisfied: certifi>=2017.4.17 in /usr/local/lib/python3.6/dist-packages (from requests->docly[jupyter]) (2020.11.8)\n",
            "Requirement already satisfied: idna<3,>=2.5 in /usr/local/lib/python3.6/dist-packages (from requests->docly[jupyter]) (2.10)\n",
            "Collecting commonmark<0.10.0,>=0.9.0\n",
            "\u001b[?25l  Downloading https://files.pythonhosted.org/packages/b1/92/dfd892312d822f36c55366118b95d914e5f16de11044a27cf10a7d71bbbf/commonmark-0.9.1-py2.py3-none-any.whl (51kB)\n",
            "\u001b[K     |████████████████████████████████| 51kB 6.5MB/s \n",
            "\u001b[?25hRequirement already satisfied: pygments<3.0.0,>=2.6.0 in /usr/local/lib/python3.6/dist-packages (from rich->docly[jupyter]) (2.6.1)\n",
            "Requirement already satisfied: nbformat>=4.0.0 in /usr/local/lib/python3.6/dist-packages (from jupytext; extra == \"jupyter\"->docly[jupyter]) (5.0.8)\n",
            "Collecting markdown-it-py~=0.5.2; python_version >= \"3.6\"\n",
            "\u001b[?25l  Downloading https://files.pythonhosted.org/packages/61/2e/fc18b786ee97cf6b5e3c95fb7428b428641e28af44ee07c5d3d6f7e82220/markdown_it_py-0.5.6-py3-none-any.whl (115kB)\n",
            "\u001b[K     |████████████████████████████████| 122kB 45.5MB/s \n",
            "\u001b[?25hRequirement already satisfied: toml in /usr/local/lib/python3.6/dist-packages (from jupytext; extra == \"jupyter\"->docly[jupyter]) (0.10.2)\n",
            "Requirement already satisfied: atomicwrites>=1.0 in /usr/local/lib/python3.6/dist-packages (from pytest->tree-hugger->docly[jupyter]) (1.4.0)\n",
            "Requirement already satisfied: setuptools in /usr/local/lib/python3.6/dist-packages (from pytest->tree-hugger->docly[jupyter]) (50.3.2)\n",
            "Requirement already satisfied: pluggy<0.8,>=0.5 in /usr/local/lib/python3.6/dist-packages (from pytest->tree-hugger->docly[jupyter]) (0.7.1)\n",
            "Requirement already satisfied: py>=1.5.0 in /usr/local/lib/python3.6/dist-packages (from pytest->tree-hugger->docly[jupyter]) (1.9.0)\n",
            "Requirement already satisfied: more-itertools>=4.0.0 in /usr/local/lib/python3.6/dist-packages (from pytest->tree-hugger->docly[jupyter]) (8.6.0)\n",
            "Requirement already satisfied: attrs>=17.4.0 in /usr/local/lib/python3.6/dist-packages (from pytest->tree-hugger->docly[jupyter]) (20.3.0)\n",
            "Requirement already satisfied: cffi>=1.4.0 in /usr/local/lib/python3.6/dist-packages (from pygit2->tree-hugger->docly[jupyter]) (1.14.3)\n",
            "Collecting cached-property\n",
            "  Downloading https://files.pythonhosted.org/packages/48/19/f2090f7dad41e225c7f2326e4cfe6fff49e57dedb5b53636c9551f86b069/cached_property-1.5.2-py2.py3-none-any.whl\n",
            "Requirement already satisfied: click in /usr/local/lib/python3.6/dist-packages (from sacremoses->transformers==2.5.0->docly[jupyter]) (7.1.2)\n",
            "Requirement already satisfied: joblib in /usr/local/lib/python3.6/dist-packages (from sacremoses->transformers==2.5.0->docly[jupyter]) (0.17.0)\n",
            "Collecting s3transfer<0.4.0,>=0.3.0\n",
            "\u001b[?25l  Downloading https://files.pythonhosted.org/packages/69/79/e6afb3d8b0b4e96cefbdc690f741d7dd24547ff1f94240c997a26fa908d3/s3transfer-0.3.3-py2.py3-none-any.whl (69kB)\n",
            "\u001b[K     |████████████████████████████████| 71kB 9.0MB/s \n",
            "\u001b[?25hCollecting botocore<1.20.0,>=1.19.25\n",
            "\u001b[?25l  Downloading https://files.pythonhosted.org/packages/ef/d5/c0c33ca15e31062220ac5964f3492409eaf90a5cf5399503cd8264f2f8e9/botocore-1.19.25-py2.py3-none-any.whl (6.9MB)\n",
            "\u001b[K     |████████████████████████████████| 6.9MB 33.4MB/s \n",
            "\u001b[?25hCollecting jmespath<1.0.0,>=0.7.1\n",
            "  Downloading https://files.pythonhosted.org/packages/07/cb/5f001272b6faeb23c1c9e0acc04d48eaaf5c862c17709d20e3469c6e0139/jmespath-0.10.0-py2.py3-none-any.whl\n",
            "Collecting azure-nspkg>=2.0.0\n",
            "  Downloading https://files.pythonhosted.org/packages/c4/0c/c562be95a9a2ed52454f598571cf300b1114d0db2aa27f5b8ed3bb9cd0c0/azure_nspkg-3.0.2-py3-none-any.whl\n",
            "Collecting cryptography\n",
            "\u001b[?25l  Downloading https://files.pythonhosted.org/packages/4c/a2/6565c5271a79e3c96d7a079053b4d8408a740d4bf365f0f5f244a807bd09/cryptography-3.2.1-cp35-abi3-manylinux2010_x86_64.whl (2.6MB)\n",
            "\u001b[K     |████████████████████████████████| 2.6MB 47.1MB/s \n",
            "\u001b[?25hRequirement already satisfied: python-dateutil in /usr/local/lib/python3.6/dist-packages (from azure-storage==0.36.0->dpu-utils->docly[jupyter]) (2.8.1)\n",
            "Collecting azure-common>=1.1.5\n",
            "  Downloading https://files.pythonhosted.org/packages/19/2b/46ada1753c4a640bc3ad04a1e20b1a5ea52a8f18079e1b8238e536aa0c98/azure_common-1.1.26-py2.py3-none-any.whl\n",
            "Requirement already satisfied: jsonschema!=2.5.0,>=2.4 in /usr/local/lib/python3.6/dist-packages (from nbformat>=4.0.0->jupytext; extra == \"jupyter\"->docly[jupyter]) (2.6.0)\n",
            "Requirement already satisfied: jupyter-core in /usr/local/lib/python3.6/dist-packages (from nbformat>=4.0.0->jupytext; extra == \"jupyter\"->docly[jupyter]) (4.7.0)\n",
            "Requirement already satisfied: traitlets>=4.1 in /usr/local/lib/python3.6/dist-packages (from nbformat>=4.0.0->jupytext; extra == \"jupyter\"->docly[jupyter]) (4.3.3)\n",
            "Requirement already satisfied: ipython-genutils in /usr/local/lib/python3.6/dist-packages (from nbformat>=4.0.0->jupytext; extra == \"jupyter\"->docly[jupyter]) (0.2.0)\n",
            "Requirement already satisfied: pycparser in /usr/local/lib/python3.6/dist-packages (from cffi>=1.4.0->pygit2->tree-hugger->docly[jupyter]) (2.20)\n",
            "Requirement already satisfied: decorator in /usr/local/lib/python3.6/dist-packages (from traitlets>=4.1->nbformat>=4.0.0->jupytext; extra == \"jupyter\"->docly[jupyter]) (4.4.2)\n",
            "Building wheels for collected packages: halo, tree-sitter, sacremoses\n",
            "  Building wheel for halo (setup.py) ... \u001b[?25l\u001b[?25hdone\n",
            "  Created wheel for halo: filename=halo-0.0.31-cp36-none-any.whl size=11254 sha256=f4360461104d8548d73785f391b994500fe38b72f693285b1af3aefee5bca1d9\n",
            "  Stored in directory: /root/.cache/pip/wheels/72/ca/3d/c8b682f6b166960e8880be54e92a0acd6f6279d26a138401ac\n",
            "  Building wheel for tree-sitter (setup.py) ... \u001b[?25l\u001b[?25hdone\n",
            "  Created wheel for tree-sitter: filename=tree_sitter-0.2.0-cp36-cp36m-linux_x86_64.whl size=297376 sha256=56495d87e89f8bf9c832311e6aac232afba8731859e1bac0582ab0b0e4c27afc\n",
            "  Stored in directory: /root/.cache/pip/wheels/3b/a6/01/2290cc8441301a07e7717e9e03c6bbc0388f71c6bf1f7f37c1\n",
            "  Building wheel for sacremoses (setup.py) ... \u001b[?25l\u001b[?25hdone\n",
            "  Created wheel for sacremoses: filename=sacremoses-0.0.43-cp36-none-any.whl size=893257 sha256=48a51303044933814b632723708c07d615e8bca7ec666de4ced2f54e2e9cbeb6\n",
            "  Stored in directory: /root/.cache/pip/wheels/29/3c/fd/7ce5c3f0666dab31a50123635e6fb5e19ceb42ce38d4e58f45\n",
            "Successfully built halo tree-sitter sacremoses\n",
            "\u001b[31mERROR: botocore 1.19.25 has requirement urllib3<1.27,>=1.25.4; python_version != \"3.4\", but you'll have urllib3 1.24.3 which is incompatible.\u001b[0m\n",
            "\u001b[31mERROR: rich 9.2.0 has requirement dataclasses<0.8,>=0.7; python_version >= \"3.6\" and python_version < \"3.7\", but you'll have dataclasses 0.8 which is incompatible.\u001b[0m\n",
            "Installing collected packages: cached-property, pygit2, tree-sitter, tree-hugger, invoke, pyfiglet, colorama, log-symbols, spinners, halo, sentencepiece, tokenizers, sacremoses, jmespath, botocore, s3transfer, boto3, transformers, SetSimilaritySearch, azure-nspkg, cryptography, azure-common, azure-storage, dpu-utils, commonmark, rich, markdown-it-py, jupytext, docly\n",
            "Successfully installed SetSimilaritySearch-0.1.7 azure-common-1.1.26 azure-nspkg-3.0.2 azure-storage-0.36.0 boto3-1.16.25 botocore-1.19.25 cached-property-1.5.2 colorama-0.4.4 commonmark-0.9.1 cryptography-3.2.1 docly-0.0.30 dpu-utils-0.2.19 halo-0.0.31 invoke-1.4.1 jmespath-0.10.0 jupytext-1.7.1 log-symbols-0.0.14 markdown-it-py-0.5.6 pyfiglet-0.8.post1 pygit2-1.4.0 rich-9.2.0 s3transfer-0.3.3 sacremoses-0.0.43 sentencepiece-0.1.94 spinners-0.0.24 tokenizers-0.5.0 transformers-2.5.0 tree-hugger-0.10.0 tree-sitter-0.2.0\n"
          ],
          "name": "stdout"
        }
      ]
    },
    {
      "cell_type": "code",
      "metadata": {
        "colab": {
          "base_uri": "https://localhost:8080/"
        },
        "id": "9SEblNezuYgg",
        "outputId": "9835e29c-1412-489d-c448-3963401f0674"
      },
      "source": [
        "!docly-gen \"/content/drive/MyDrive/Demo/script_1.py\""
      ],
      "execution_count": 7,
      "outputs": [
        {
          "output_type": "stream",
          "text": [
            "2020-11-27 11:59:22.085672: I tensorflow/stream_executor/platform/default/dso_loader.cc:48] Successfully opened dynamic library libcudart.so.10.1\n",
            "    ____             __     \n",
            "   / __ \\____  _____/ /_  __\n",
            "  / / / / __ \\/ ___/ / / / /\n",
            " / /_/ / /_/ / /__/ / /_/ / \n",
            "/_____/\\____/\\___/_/\\__, /  \n",
            "                   /____/   \n",
            "\u001b[0m\n",
            "\u001b[0m\u001b[32mThere is no model. Downloading\u001b[0m\n",
            "pytorch_model.bin: 707MB [00:54, 12.9MB/s]               \u001b[0m\n",
            "\u001b[32mDownload complete\u001b[0m ✔\n",
            "\u001b[0m\u001b[32mThere is no tree-sitter lib. Downloading\u001b[0m\n",
            "python_ts_nix64.so: 233kB [00:01, 152kB/s]                \u001b[0m\n",
            "\u001b[32mDownload complete\u001b[0m ✔\n",
            "\u001b[0m\u001b[32mLoading Engine. Please wait\u001b[0m\n",
            "\u001b[0m\u001b[0m2020-11-27 12:00:24,028 INFO:Lock 139940432981408 acquired on /root/.cache/torch/transformers/1b62771d5f5169b34713b0af1ab85d80e11f7b1812fbf3ee7d03a866c5f58e72.06eb31f0a63f4e8a136733ccac422f0abf9ffa87c3e61104b57e7075a704d008.lock\u001b[0m\n",
            "Downloading: 100% 498/498 [00:00<00:00, 366kB/s]\u001b[0m\n",
            "\u001b[0m2020-11-27 12:00:24,798 INFO:Lock 139940432981408 released on /root/.cache/torch/transformers/1b62771d5f5169b34713b0af1ab85d80e11f7b1812fbf3ee7d03a866c5f58e72.06eb31f0a63f4e8a136733ccac422f0abf9ffa87c3e61104b57e7075a704d008.lock\u001b[0m\n",
            "\u001b[0m2020-11-27 12:00:25,567 INFO:Lock 139937734376304 acquired on /root/.cache/torch/transformers/aca4dbdf4f074d4e071c2664901fec33c8aa69c35aa0101bc669ed4b44d1f6c3.6a4061e8fc00057d21d80413635a86fdcf55b6e7594ad9e25257d2f99a02f4be.lock\u001b[0m\n",
            "Downloading: 100% 899k/899k [00:00<00:00, 992kB/s]\u001b[0m\n",
            "\u001b[0m2020-11-27 12:00:27,265 INFO:Lock 139937734376304 released on /root/.cache/torch/transformers/aca4dbdf4f074d4e071c2664901fec33c8aa69c35aa0101bc669ed4b44d1f6c3.6a4061e8fc00057d21d80413635a86fdcf55b6e7594ad9e25257d2f99a02f4be.lock\u001b[0m\n",
            "\u001b[0m2020-11-27 12:00:28,012 INFO:Lock 139937734376080 acquired on /root/.cache/torch/transformers/779a2f0c38ba2ff65d9a3ee23e58db9568f44a20865c412365e3dc540f01743f.70bec105b4158ed9a1747fea67a43f5dee97855c64d62b6ec3742f4cfdb5feda.lock\u001b[0m\n",
            "Downloading: 100% 456k/456k [00:00<00:00, 499kB/s]\u001b[0m\n",
            "\u001b[0m2020-11-27 12:00:29,746 INFO:Lock 139937734376080 released on /root/.cache/torch/transformers/779a2f0c38ba2ff65d9a3ee23e58db9568f44a20865c412365e3dc540f01743f.70bec105b4158ed9a1747fea67a43f5dee97855c64d62b6ec3742f4cfdb5feda.lock\u001b[0m\n",
            "\u001b[0m2020-11-27 12:00:31,252 INFO:Lock 139937734376304 acquired on /root/.cache/torch/transformers/5a191080da4f00859b5d3d29529f57894583e00ab07b7c940d65c33db4b25d4d.16f949018cf247a2ea7465a74ca9a292212875e5fd72f969e0807011e7f192e4.lock\u001b[0m\n",
            "Downloading: 100% 150/150 [00:00<00:00, 110kB/s]\u001b[0m\n",
            "\u001b[0m2020-11-27 12:00:32,046 INFO:Lock 139937734376304 released on /root/.cache/torch/transformers/5a191080da4f00859b5d3d29529f57894583e00ab07b7c940d65c33db4b25d4d.16f949018cf247a2ea7465a74ca9a292212875e5fd72f969e0807011e7f192e4.lock\u001b[0m\n",
            "\u001b[0m2020-11-27 12:00:32,805 INFO:Lock 139937734376304 acquired on /root/.cache/torch/transformers/1b4723c5fb2d933e11c399450ea233aaf33f093b5cbef3ec864624735380e490.70b5dbd5d3b9b4c9bfb3d1f6464291ff52f6a8d96358899aa3834e173b45092d.lock\u001b[0m\n",
            "Downloading: 100% 25.0/25.0 [00:00<00:00, 17.7kB/s]\u001b[0m\n",
            "\u001b[0m2020-11-27 12:00:33,567 INFO:Lock 139937734376304 released on /root/.cache/torch/transformers/1b4723c5fb2d933e11c399450ea233aaf33f093b5cbef3ec864624735380e490.70b5dbd5d3b9b4c9bfb3d1f6464291ff52f6a8d96358899aa3834e173b45092d.lock\u001b[0m\n",
            "\u001b[0m2020-11-27 12:00:34,416 INFO:Lock 139937734376304 acquired on /root/.cache/torch/transformers/3416309b564f60f87c1bc2ce8d8a82bb7c1e825b241c816482f750b48a5cdc26.96251fe4478bac0cff9de8ae3201e5847cee59aebbcafdfe6b2c361f9398b349.lock\u001b[0m\n",
            "Downloading: 100% 499M/499M [00:36<00:00, 13.5MB/s]\u001b[0m\n",
            "\u001b[0m2020-11-27 12:01:12,164 INFO:Lock 139937734376304 released on /root/.cache/torch/transformers/3416309b564f60f87c1bc2ce8d8a82bb7c1e825b241c816482f750b48a5cdc26.96251fe4478bac0cff9de8ae3201e5847cee59aebbcafdfe6b2c361f9398b349.lock\u001b[0m\n",
            "\u001b[0m\u001b[32mEngine Loaded.\u001b[0m ✔\n",
            "\u001b[0m\u001b[K\u001b[0m\u001b[?25h\u001b[0mThe diff has been generated, do you want to see the suggestions for missing Docstrings? [Y/n] \u001b[0m\n",
            "\u001b[0mY\n",
            "\u001b[3m                   Functions and Docstrings                   \u001b[0m\n",
            "┏━━━━━━━━━━━━━┳━━━━━━━━━━━━━━━━━┳━━━━━━━━━━━━━━━━━━━━━━━━━━━━┓\n",
            "┃\u001b[1m \u001b[0m\u001b[1mFile Name  \u001b[0m\u001b[1m \u001b[0m┃\u001b[1m \u001b[0m\u001b[1mFunction Name  \u001b[0m\u001b[1m \u001b[0m┃\u001b[1m \u001b[0m\u001b[1mDocstring                 \u001b[0m\u001b[1m \u001b[0m┃\n",
            "┡━━━━━━━━━━━━━╇━━━━━━━━━━━━━━━━━╇━━━━━━━━━━━━━━━━━━━━━━━━━━━━┩\n",
            "│ script_1.py │ detect_problems │ Detect errors from a file. │\n",
            "└─────────────┴─────────────────┴────────────────────────────┘\n",
            "\u001b[0mDo you want to apply the suggestions? [Y/n] \u001b[0m\n",
            "\u001b[0mY\n",
            "\u001b[32mApplying diff\u001b[0m\n",
            "\u001b[0m\u001b[32mDiff applied. Good bye!\u001b[0m 👍\n",
            "\u001b[0m\u001b[K\u001b[0m\u001b[?25h\u001b[0m\u001b[0m"
          ],
          "name": "stdout"
        }
      ]
    },
    {
      "cell_type": "code",
      "metadata": {
        "colab": {
          "base_uri": "https://localhost:8080/"
        },
        "id": "RlDIPsCJue2d",
        "outputId": "5e9a0fc3-a226-4ecf-d2d2-0c0439938d13"
      },
      "source": [
        "!docly-gen \"/content/drive/MyDrive/Demo/script_2.py\""
      ],
      "execution_count": 8,
      "outputs": [
        {
          "output_type": "stream",
          "text": [
            "2020-11-27 12:04:16.261791: I tensorflow/stream_executor/platform/default/dso_loader.cc:48] Successfully opened dynamic library libcudart.so.10.1\n",
            "    ____             __     \n",
            "   / __ \\____  _____/ /_  __\n",
            "  / / / / __ \\/ ___/ / / / /\n",
            " / /_/ / /_/ / /__/ / /_/ / \n",
            "/_____/\\____/\\___/_/\\__, /  \n",
            "                   /____/   \n",
            "\u001b[0m\n",
            "\u001b[0m\u001b[32mLoading Engine. Please wait\u001b[0m\n",
            "\u001b[0m\u001b[32mEngine Loaded.\u001b[0m ✔\n",
            "\u001b[0m\u001b[K\u001b[0m\u001b[?25h\u001b[0mThe diff has been generated, do you want to see the suggestions for missing Docstrings? [Y/n] \u001b[0m\n",
            "\u001b[0mY\n",
            "\u001b[3m                       Functions and Docstrings                       \u001b[0m\n",
            "┏━━━━━━━━━━━━━┳━━━━━━━━━━━━━━━━━━━━━━━━━━┳━━━━━━━━━━━━━━━━━━━━━━━━━━━┓\n",
            "┃\u001b[1m \u001b[0m\u001b[1mFile Name  \u001b[0m\u001b[1m \u001b[0m┃\u001b[1m \u001b[0m\u001b[1mFunction Name           \u001b[0m\u001b[1m \u001b[0m┃\u001b[1m \u001b[0m\u001b[1mDocstring                \u001b[0m\u001b[1m \u001b[0m┃\n",
            "┡━━━━━━━━━━━━━╇━━━━━━━━━━━━━━━━━━━━━━━━━━╇━━━━━━━━━━━━━━━━━━━━━━━━━━━┩\n",
            "│ script_2.py │ calculate_critical_value │ Calculate critical value. │\n",
            "└─────────────┴──────────────────────────┴───────────────────────────┘\n",
            "\u001b[0mDo you want to apply the suggestions? [Y/n] \u001b[0m\n",
            "\u001b[0mY\n",
            "\u001b[32mApplying diff\u001b[0m\n",
            "\u001b[0m\u001b[32mDiff applied. Good bye!\u001b[0m 👍\n",
            "\u001b[0m\u001b[K\u001b[0m\u001b[?25h\u001b[0m\u001b[0m"
          ],
          "name": "stdout"
        }
      ]
    },
    {
      "cell_type": "code",
      "metadata": {
        "id": "FZvHTG2eltM7"
      },
      "source": [
        ""
      ],
      "execution_count": null,
      "outputs": []
    }
  ]
}